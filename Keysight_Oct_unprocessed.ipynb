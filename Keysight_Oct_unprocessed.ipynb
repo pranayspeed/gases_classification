{
  "cells": [
    {
      "cell_type": "code",
      "execution_count": 3,
      "metadata": {
        "id": "w-cfG9F2ogOH"
      },
      "outputs": [],
      "source": [
        "#!pip install micromlgen"
      ]
    },
    {
      "cell_type": "code",
      "execution_count": 4,
      "metadata": {
        "colab": {
          "base_uri": "https://localhost:8080/",
          "height": 585
        },
        "id": "DPdzc0IUZV0s",
        "outputId": "c1b360ad-e32a-42c8-f6cf-a3fee3a84807"
      },
      "outputs": [],
      "source": [
        "# Random Forest Classifiers\n",
        "# 10/24/2022\n",
        "\n",
        "\n",
        "from micromlgen import port\n",
        "#from sklearn.tree import export_text\n",
        "import numpy as np\n",
        "import pandas as pd\n",
        "import matplotlib.pyplot as plt\n",
        "import seaborn as sns\n",
        "import joblib\n",
        "from sklearn.model_selection import train_test_split\n",
        "from sklearn.ensemble import RandomForestClassifier\n",
        "from sklearn.metrics import accuracy_score, confusion_matrix, classification_report\n",
        "\n",
        "# If you're working in Jupyter Notebook, include the following so that plots will display:\n",
        "%matplotlib inline\n",
        "\n",
        "# read data from csv file\n",
        "data = pd.read_csv('Unprocessed_file_with_label.csv', index_col=None)\n",
        "\n",
        "\n",
        "#print(data)\n",
        "X = data.iloc[:,:32]\n",
        "y = data.iloc[:,32]\n",
        "#print(\"X=\",X)\n",
        "#print(\"y=\",y)\n",
        "X_names = X.columns\n",
        "y_name = y.name\n",
        "# splitting data into training and test set\n",
        "X_train, X_test, y_train, y_test = train_test_split(X, y, test_size = 0.2, random_state=1, stratify = y)\n"
      ]
    },
    {
      "cell_type": "code",
      "execution_count": 17,
      "metadata": {},
      "outputs": [
        {
          "data": {
            "text/html": [
              "<div>\n",
              "<style scoped>\n",
              "    .dataframe tbody tr th:only-of-type {\n",
              "        vertical-align: middle;\n",
              "    }\n",
              "\n",
              "    .dataframe tbody tr th {\n",
              "        vertical-align: top;\n",
              "    }\n",
              "\n",
              "    .dataframe thead th {\n",
              "        text-align: right;\n",
              "    }\n",
              "</style>\n",
              "<table border=\"1\" class=\"dataframe\">\n",
              "  <thead>\n",
              "    <tr style=\"text-align: right;\">\n",
              "      <th></th>\n",
              "      <th>CH01</th>\n",
              "      <th>CH02</th>\n",
              "      <th>CH03</th>\n",
              "      <th>CH04</th>\n",
              "      <th>CH05</th>\n",
              "      <th>CH06</th>\n",
              "      <th>CH07</th>\n",
              "      <th>CH08</th>\n",
              "      <th>CH09</th>\n",
              "      <th>CH10</th>\n",
              "      <th>...</th>\n",
              "      <th>CH23</th>\n",
              "      <th>CH24</th>\n",
              "      <th>CH25</th>\n",
              "      <th>CH26</th>\n",
              "      <th>CH27</th>\n",
              "      <th>CH28</th>\n",
              "      <th>CH29</th>\n",
              "      <th>CH30</th>\n",
              "      <th>CH31</th>\n",
              "      <th>CH32</th>\n",
              "    </tr>\n",
              "  </thead>\n",
              "  <tbody>\n",
              "    <tr>\n",
              "      <th>83440</th>\n",
              "      <td>2.787</td>\n",
              "      <td>0.927</td>\n",
              "      <td>0.446</td>\n",
              "      <td>0.795</td>\n",
              "      <td>0.255</td>\n",
              "      <td>0.290</td>\n",
              "      <td>1.477</td>\n",
              "      <td>0.562</td>\n",
              "      <td>0.871</td>\n",
              "      <td>1.628</td>\n",
              "      <td>...</td>\n",
              "      <td>0.886</td>\n",
              "      <td>1.213</td>\n",
              "      <td>0.192</td>\n",
              "      <td>0.216</td>\n",
              "      <td>0.651</td>\n",
              "      <td>1.024</td>\n",
              "      <td>0.646</td>\n",
              "      <td>0.531</td>\n",
              "      <td>0.587</td>\n",
              "      <td>0.694</td>\n",
              "    </tr>\n",
              "    <tr>\n",
              "      <th>15690</th>\n",
              "      <td>2.985</td>\n",
              "      <td>0.753</td>\n",
              "      <td>0.225</td>\n",
              "      <td>0.651</td>\n",
              "      <td>0.598</td>\n",
              "      <td>0.193</td>\n",
              "      <td>1.601</td>\n",
              "      <td>0.300</td>\n",
              "      <td>1.768</td>\n",
              "      <td>1.825</td>\n",
              "      <td>...</td>\n",
              "      <td>0.836</td>\n",
              "      <td>1.686</td>\n",
              "      <td>0.196</td>\n",
              "      <td>0.220</td>\n",
              "      <td>0.758</td>\n",
              "      <td>1.049</td>\n",
              "      <td>0.873</td>\n",
              "      <td>0.750</td>\n",
              "      <td>0.700</td>\n",
              "      <td>0.913</td>\n",
              "    </tr>\n",
              "  </tbody>\n",
              "</table>\n",
              "<p>2 rows × 32 columns</p>\n",
              "</div>"
            ],
            "text/plain": [
              "        CH01   CH02   CH03   CH04   CH05   CH06   CH07   CH08   CH09   CH10  \\\n",
              "83440  2.787  0.927  0.446  0.795  0.255  0.290  1.477  0.562  0.871  1.628   \n",
              "15690  2.985  0.753  0.225  0.651  0.598  0.193  1.601  0.300  1.768  1.825   \n",
              "\n",
              "       ...   CH23   CH24   CH25   CH26   CH27   CH28   CH29   CH30   CH31  \\\n",
              "83440  ...  0.886  1.213  0.192  0.216  0.651  1.024  0.646  0.531  0.587   \n",
              "15690  ...  0.836  1.686  0.196  0.220  0.758  1.049  0.873  0.750  0.700   \n",
              "\n",
              "        CH32  \n",
              "83440  0.694  \n",
              "15690  0.913  \n",
              "\n",
              "[2 rows x 32 columns]"
            ]
          },
          "execution_count": 17,
          "metadata": {},
          "output_type": "execute_result"
        }
      ],
      "source": [
        "X_train.head(2)"
      ]
    },
    {
      "cell_type": "code",
      "execution_count": 18,
      "metadata": {},
      "outputs": [
        {
          "data": {
            "text/plain": [
              "Index(['CH01', 'CH02', 'CH03', 'CH04', 'CH05', 'CH06', 'CH07', 'CH08', 'CH09',\n",
              "       'CH10', 'CH11', 'CH12', 'CH13', 'CH14', 'CH15', 'CH16', 'CH17', 'CH18',\n",
              "       'CH19', 'CH20', 'CH21', 'CH22', 'CH23', 'CH24', 'CH25', 'CH26', 'CH27',\n",
              "       'CH28', 'CH29', 'CH30', 'CH31', 'CH32'],\n",
              "      dtype='object')"
            ]
          },
          "execution_count": 18,
          "metadata": {},
          "output_type": "execute_result"
        }
      ],
      "source": [
        "X_train.columns"
      ]
    },
    {
      "cell_type": "code",
      "execution_count": 8,
      "metadata": {},
      "outputs": [],
      "source": [
        "def plot_result(y_test, y_pred_test):\n",
        "\n",
        "    # View accuracy score\n",
        "    accuracy_score(y_test, y_pred_test)\n",
        "\n",
        "    # View confusion matrix for test data and predictions\n",
        "    confusion_matrix(y_test, y_pred_test)\n",
        "\n",
        "    # Get and reshape confusion matrix data\n",
        "    matrix = confusion_matrix(y_test, y_pred_test)\n",
        "\n",
        "    accuracy = float(matrix.diagonal().sum())/len(y_test)\n",
        "    print('model accuracy is:',accuracy*100,'%')\n",
        "\n",
        "    matrix = matrix.astype('float') / matrix.sum(axis=1)[:, np.newaxis]\n",
        "\n",
        "    # Build the plot\n",
        "    plt.figure(figsize=(16,4))\n",
        "    sns.set(font_scale=1.4)\n",
        "    sns.heatmap(matrix, annot=True, annot_kws={'size':10},\n",
        "                cmap=plt.cm.Greens, linewidths=0.2)\n",
        "\n",
        "    # Add labels to the plot\n",
        "    class_names = ['40ccm', '400ccm', '500ccm']\n",
        "    tick_marks = np.arange(len(class_names))\n",
        "    tick_marks2 = tick_marks + 0.5\n",
        "    plt.xticks(tick_marks, class_names, rotation=25)\n",
        "    plt.yticks(tick_marks2, class_names, rotation=0)\n",
        "    plt.xlabel('Predicted label')\n",
        "    plt.ylabel('True label')\n",
        "    plt.title('Confusion Matrix for Decision Tree Model')\n",
        "    plt.show()\n",
        "\n",
        "    # with open('RandomForest.h', 'w') as file:\n",
        "    #     file.write(port(forest))"
      ]
    },
    {
      "cell_type": "code",
      "execution_count": 15,
      "metadata": {},
      "outputs": [
        {
          "name": "stdout",
          "output_type": "stream",
          "text": [
            "model accuracy is: 99.71253659834974 %\n"
          ]
        },
        {
          "data": {
            "image/png": "[encoded data removed]",
            "text/plain": [
              "<Figure size 1600x400 with 2 Axes>"
            ]
          },
          "metadata": {},
          "output_type": "display_data"
        }
      ],
      "source": [
        "from sklearn.tree import DecisionTreeClassifier\n",
        "\n",
        "# Instantiate and fit the RandomForestClassifier\n",
        "dt = DecisionTreeClassifier(max_depth=8)\n",
        "dt.fit(X_train, y_train)\n",
        "\n",
        "# Make predictions for the test set\n",
        "y_pred_test = dt.predict(X_test)\n",
        "plot_result(y_test, y_pred_test)"
      ]
    },
    {
      "cell_type": "code",
      "execution_count": 12,
      "metadata": {},
      "outputs": [
        {
          "data": {
            "text/plain": [
              "6"
            ]
          },
          "execution_count": 12,
          "metadata": {},
          "output_type": "execute_result"
        }
      ],
      "source": [
        "dt.get_depth()"
      ]
    },
    {
      "cell_type": "code",
      "execution_count": 8,
      "metadata": {},
      "outputs": [
        {
          "name": "stdout",
          "output_type": "stream",
          "text": [
            "|--- feature_28 <= -1.20\n",
            "|   |--- class: 1\n",
            "|--- feature_28 >  -1.20\n",
            "|   |--- feature_10 <= -0.00\n",
            "|   |   |--- feature_11 <= -0.00\n",
            "|   |   |   |--- feature_10 <= -0.00\n",
            "|   |   |   |   |--- feature_23 <= -0.00\n",
            "|   |   |   |   |   |--- feature_4 <= -0.01\n",
            "|   |   |   |   |   |   |--- class: 0\n",
            "|   |   |   |   |   |--- feature_4 >  -0.01\n",
            "|   |   |   |   |   |   |--- class: 2\n",
            "|   |   |   |   |--- feature_23 >  -0.00\n",
            "|   |   |   |   |   |--- feature_20 <= 0.00\n",
            "|   |   |   |   |   |   |--- class: 0\n",
            "|   |   |   |   |   |--- feature_20 >  0.00\n",
            "|   |   |   |   |   |   |--- class: 2\n",
            "|   |   |   |--- feature_10 >  -0.00\n",
            "|   |   |   |   |--- feature_7 <= -0.00\n",
            "|   |   |   |   |   |--- feature_0 <= -0.00\n",
            "|   |   |   |   |   |   |--- class: 0\n",
            "|   |   |   |   |   |--- feature_0 >  -0.00\n",
            "|   |   |   |   |   |   |--- class: 2\n",
            "|   |   |   |   |--- feature_7 >  -0.00\n",
            "|   |   |   |   |   |--- feature_11 <= -0.00\n",
            "|   |   |   |   |   |   |--- class: 2\n",
            "|   |   |   |   |   |--- feature_11 >  -0.00\n",
            "|   |   |   |   |   |   |--- class: 2\n",
            "|   |   |--- feature_11 >  -0.00\n",
            "|   |   |   |--- feature_20 <= -0.00\n",
            "|   |   |   |   |--- feature_15 <= 0.00\n",
            "|   |   |   |   |   |--- feature_21 <= 0.00\n",
            "|   |   |   |   |   |   |--- class: 2\n",
            "|   |   |   |   |   |--- feature_21 >  0.00\n",
            "|   |   |   |   |   |   |--- class: 0\n",
            "|   |   |   |   |--- feature_15 >  0.00\n",
            "|   |   |   |   |   |--- class: 0\n",
            "|   |   |   |--- feature_20 >  -0.00\n",
            "|   |   |   |   |--- feature_20 <= 0.00\n",
            "|   |   |   |   |   |--- feature_0 <= -0.00\n",
            "|   |   |   |   |   |   |--- class: 2\n",
            "|   |   |   |   |   |--- feature_0 >  -0.00\n",
            "|   |   |   |   |   |   |--- class: 0\n",
            "|   |   |   |   |--- feature_20 >  0.00\n",
            "|   |   |   |   |   |--- feature_21 <= 0.00\n",
            "|   |   |   |   |   |   |--- class: 2\n",
            "|   |   |   |   |   |--- feature_21 >  0.00\n",
            "|   |   |   |   |   |   |--- class: 2\n",
            "|   |--- feature_10 >  -0.00\n",
            "|   |   |--- feature_10 <= 0.00\n",
            "|   |   |   |--- feature_20 <= -0.00\n",
            "|   |   |   |   |--- feature_8 <= -0.01\n",
            "|   |   |   |   |   |--- feature_17 <= -0.02\n",
            "|   |   |   |   |   |   |--- class: 0\n",
            "|   |   |   |   |   |--- feature_17 >  -0.02\n",
            "|   |   |   |   |   |   |--- class: 2\n",
            "|   |   |   |   |--- feature_8 >  -0.01\n",
            "|   |   |   |   |   |--- feature_4 <= -0.00\n",
            "|   |   |   |   |   |   |--- class: 0\n",
            "|   |   |   |   |   |--- feature_4 >  -0.00\n",
            "|   |   |   |   |   |   |--- class: 2\n",
            "|   |   |   |--- feature_20 >  -0.00\n",
            "|   |   |   |   |--- feature_20 <= 0.00\n",
            "|   |   |   |   |   |--- feature_11 <= 0.00\n",
            "|   |   |   |   |   |   |--- class: 0\n",
            "|   |   |   |   |   |--- feature_11 >  0.00\n",
            "|   |   |   |   |   |   |--- class: 0\n",
            "|   |   |   |   |--- feature_20 >  0.00\n",
            "|   |   |   |   |   |--- feature_12 <= 0.00\n",
            "|   |   |   |   |   |   |--- class: 2\n",
            "|   |   |   |   |   |--- feature_12 >  0.00\n",
            "|   |   |   |   |   |   |--- class: 2\n",
            "|   |   |--- feature_10 >  0.00\n",
            "|   |   |   |--- feature_7 <= 0.00\n",
            "|   |   |   |   |--- feature_19 <= 0.00\n",
            "|   |   |   |   |   |--- feature_11 <= 0.00\n",
            "|   |   |   |   |   |   |--- class: 0\n",
            "|   |   |   |   |   |--- feature_11 >  0.00\n",
            "|   |   |   |   |   |   |--- class: 2\n",
            "|   |   |   |   |--- feature_19 >  0.00\n",
            "|   |   |   |   |   |--- feature_8 <= 0.01\n",
            "|   |   |   |   |   |   |--- class: 0\n",
            "|   |   |   |   |   |--- feature_8 >  0.01\n",
            "|   |   |   |   |   |   |--- class: 2\n",
            "|   |   |   |--- feature_7 >  0.00\n",
            "|   |   |   |   |--- feature_7 <= 0.00\n",
            "|   |   |   |   |   |--- feature_11 <= 0.00\n",
            "|   |   |   |   |   |   |--- class: 2\n",
            "|   |   |   |   |   |--- feature_11 >  0.00\n",
            "|   |   |   |   |   |   |--- class: 2\n",
            "|   |   |   |   |--- feature_7 >  0.00\n",
            "|   |   |   |   |   |--- feature_9 <= 0.00\n",
            "|   |   |   |   |   |   |--- class: 2\n",
            "|   |   |   |   |   |--- feature_9 >  0.00\n",
            "|   |   |   |   |   |   |--- class: 2\n",
            "\n"
          ]
        }
      ],
      "source": [
        "from sklearn.tree import export_text\n",
        "r = export_text(dt)\n",
        "print(r)"
      ]
    },
    {
      "cell_type": "code",
      "execution_count": 16,
      "metadata": {},
      "outputs": [],
      "source": [
        "with open('DecisionTree_unprocessed.h', 'w') as file:\n",
        "    file.write(port(dt))"
      ]
    },
    {
      "cell_type": "code",
      "execution_count": 15,
      "metadata": {},
      "outputs": [
        {
          "data": {
            "text/plain": [
              "pandas.core.frame.DataFrame"
            ]
          },
          "execution_count": 15,
          "metadata": {},
          "output_type": "execute_result"
        }
      ],
      "source": [
        "type(X_test)"
      ]
    },
    {
      "cell_type": "code",
      "execution_count": 16,
      "metadata": {},
      "outputs": [],
      "source": [
        "X_test_pred = X_test.copy()"
      ]
    },
    {
      "cell_type": "code",
      "execution_count": 18,
      "metadata": {},
      "outputs": [],
      "source": [
        "X_test_pred[\"target\"] = y_test"
      ]
    },
    {
      "cell_type": "code",
      "execution_count": 28,
      "metadata": {},
      "outputs": [
        {
          "data": {
            "text/html": [
              "<div>\n",
              "<style scoped>\n",
              "    .dataframe tbody tr th:only-of-type {\n",
              "        vertical-align: middle;\n",
              "    }\n",
              "\n",
              "    .dataframe tbody tr th {\n",
              "        vertical-align: top;\n",
              "    }\n",
              "\n",
              "    .dataframe thead th {\n",
              "        text-align: right;\n",
              "    }\n",
              "</style>\n",
              "<table border=\"1\" class=\"dataframe\">\n",
              "  <thead>\n",
              "    <tr style=\"text-align: right;\">\n",
              "      <th></th>\n",
              "      <th>0.001</th>\n",
              "      <th>-0.003</th>\n",
              "      <th>-0.003.1</th>\n",
              "      <th>-0.003.2</th>\n",
              "      <th>-0.005</th>\n",
              "      <th>-0.079</th>\n",
              "      <th>-0.001</th>\n",
              "      <th>-0.023</th>\n",
              "      <th>-0.001.1</th>\n",
              "      <th>0</th>\n",
              "      <th>...</th>\n",
              "      <th>0.5</th>\n",
              "      <th>0.6</th>\n",
              "      <th>0.7</th>\n",
              "      <th>0.001.1</th>\n",
              "      <th>0.001.2</th>\n",
              "      <th>0.001.3</th>\n",
              "      <th>0.8</th>\n",
              "      <th>0.9</th>\n",
              "      <th>0.10</th>\n",
              "      <th>target</th>\n",
              "    </tr>\n",
              "  </thead>\n",
              "  <tbody>\n",
              "    <tr>\n",
              "      <th>25556</th>\n",
              "      <td>-0.001</td>\n",
              "      <td>-0.001</td>\n",
              "      <td>0.0</td>\n",
              "      <td>0.0</td>\n",
              "      <td>0.0</td>\n",
              "      <td>0.0</td>\n",
              "      <td>0.0</td>\n",
              "      <td>0.001</td>\n",
              "      <td>0.0</td>\n",
              "      <td>-0.001</td>\n",
              "      <td>...</td>\n",
              "      <td>0.0</td>\n",
              "      <td>0.0</td>\n",
              "      <td>0.0</td>\n",
              "      <td>0.0</td>\n",
              "      <td>0.0</td>\n",
              "      <td>0.0</td>\n",
              "      <td>0.0</td>\n",
              "      <td>0.0</td>\n",
              "      <td>0.0</td>\n",
              "      <td>0</td>\n",
              "    </tr>\n",
              "  </tbody>\n",
              "</table>\n",
              "<p>1 rows × 33 columns</p>\n",
              "</div>"
            ],
            "text/plain": [
              "       0.001  -0.003  -0.003.1  -0.003.2  -0.005  -0.079  -0.001  -0.023  \\\n",
              "25556 -0.001  -0.001       0.0       0.0     0.0     0.0     0.0   0.001   \n",
              "\n",
              "       -0.001.1      0  ...  0.5  0.6  0.7  0.001.1  0.001.2  0.001.3  0.8  \\\n",
              "25556       0.0 -0.001  ...  0.0  0.0  0.0      0.0      0.0      0.0  0.0   \n",
              "\n",
              "       0.9  0.10  target  \n",
              "25556  0.0   0.0       0  \n",
              "\n",
              "[1 rows x 33 columns]"
            ]
          },
          "execution_count": 28,
          "metadata": {},
          "output_type": "execute_result"
        }
      ],
      "source": [
        "X_test_pred.head(1)"
      ]
    },
    {
      "cell_type": "code",
      "execution_count": 31,
      "metadata": {},
      "outputs": [],
      "source": [
        "X_test_pred.to_csv(\"test_output.csv\", index=False,header=False)"
      ]
    },
    {
      "cell_type": "code",
      "execution_count": 19,
      "metadata": {},
      "outputs": [],
      "source": [
        "X_test_pred = X_test.copy()\n",
        "X_test_pred[\"target\"] = y_test\n",
        "X_test_pred.to_csv(\"test_output_unprocessed.csv\", index=False,header=False)"
      ]
    },
    {
      "cell_type": "code",
      "execution_count": null,
      "metadata": {},
      "outputs": [],
      "source": []
    }
  ],
  "metadata": {
    "colab": {
      "provenance": []
    },
    "kernelspec": {
      "display_name": "Python 3.7.11 ('base')",
      "language": "python",
      "name": "python3"
    },
    "language_info": {
      "codemirror_mode": {
        "name": "ipython",
        "version": 3
      },
      "file_extension": ".py",
      "mimetype": "text/x-python",
      "name": "python",
      "nbconvert_exporter": "python",
      "pygments_lexer": "ipython3",
      "version": "3.7.11"
    },
    "vscode": {
      "interpreter": {
        "hash": "c3275c569c5dc62459523b193914ea267a3d9591e29808da4fee8f0e3af1d745"
      }
    }
  },
  "nbformat": 4,
  "nbformat_minor": 0
}
